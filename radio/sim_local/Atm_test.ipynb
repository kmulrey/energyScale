{
 "cells": [
  {
   "cell_type": "code",
   "execution_count": 182,
   "metadata": {},
   "outputs": [],
   "source": [
    "import numpy as np\n",
    "from optparse import OptionParser\n",
    "import os\n",
    "import cPickle\n",
    "import os.path\n",
    "import matplotlib.pyplot as plt\n",
    "import scipy.interpolate as intp\n",
    "from scipy.interpolate import interp1d\n",
    "from matplotlib import cm\n",
    "import re\n",
    "from scipy import signal\n",
    "from scipy.signal import hilbert\n",
    "import sys\n",
    "\n",
    "sys.path.insert(0, '../simulation')\n",
    "\n",
    "import fluence as flu\n",
    "import radiation_energy as rad\n",
    "import sim_functions as sim\n",
    "import helper as helper\n",
    "import sim_functions as sim\n",
    "import debug_sim as debug_sim"
   ]
  },
  {
   "cell_type": "code",
   "execution_count": 183,
   "metadata": {},
   "outputs": [],
   "source": [
    "event_path='/Users/kmulrey/radio/events/'"
   ]
  },
  {
   "cell_type": "code",
   "execution_count": 253,
   "metadata": {},
   "outputs": [],
   "source": [
    "a=10\n",
    "type='proton'"
   ]
  },
  {
   "cell_type": "code",
   "execution_count": 254,
   "metadata": {},
   "outputs": [],
   "source": [
    "filename=type+'_event_list.txt'\n",
    "sim_dir=[]\n",
    "runnr=[]\n",
    "count=0"
   ]
  },
  {
   "cell_type": "code",
   "execution_count": 255,
   "metadata": {},
   "outputs": [],
   "source": [
    "with open(filename) as f:\n",
    "    for line in f:\n",
    "        sim_dir.append(line.split()[0])\n",
    "        \n",
    "        runnr.append(line.split()[1])\n",
    "        count=count+1\n",
    "\n"
   ]
  },
  {
   "cell_type": "code",
   "execution_count": 256,
   "metadata": {},
   "outputs": [
    {
     "name": "stdout",
     "output_type": "stream",
     "text": [
      "/Users/kmulrey/radio/events/225079654/1/coreas/proton/  000366\n"
     ]
    }
   ],
   "source": [
    "i=3\n",
    "event= sim_dir[i].split('events/')[1].split('/')[0]\n",
    "print '{0}  {1}'.format(sim_dir[i], runnr[i])"
   ]
  },
  {
   "cell_type": "code",
   "execution_count": 257,
   "metadata": {},
   "outputs": [],
   "source": [
    "reload(debug_sim)\n",
    "ant_pos,times,efield,zenith,az,energy,xmax=debug_sim.get_efield(sim_dir[i], runnr[i])"
   ]
  },
  {
   "cell_type": "code",
   "execution_count": 258,
   "metadata": {},
   "outputs": [],
   "source": [
    "alpha=sim.GetAlpha(zenith,az,1.1837)"
   ]
  },
  {
   "cell_type": "code",
   "execution_count": 270,
   "metadata": {},
   "outputs": [
    {
     "name": "stdout",
     "output_type": "stream",
     "text": [
      "[[ 0.00000000e+00  3.64865365e+05  9.31632259e+05  2.57338512e+06\n",
      "   1.00000000e+07]\n",
      " [-9.01485438e+01 -9.90580353e+01 -1.46015759e+00  7.59642840e-04\n",
      "   1.12829200e-02]\n",
      " [ 1.14790454e+03  1.15589222e+03  1.20402690e+03  1.36704821e+03\n",
      "   1.00000000e+00]\n",
      " [ 9.12461520e+05  9.23025382e+05  7.09189394e+05  6.76781922e+05\n",
      "   1.00000000e+09]]\n"
     ]
    }
   ],
   "source": [
    "event='219052349'\n",
    "#event='181702003'\n",
    "#event='225079654'\n",
    "#event='258531266'\n",
    "atm=debug_sim.get_atm(event)\n",
    "hi=helper.get_vertical_height(xmax,atm)   # height in cm\n",
    "at=helper.get_atmosphere(hi,atm)\n",
    "rho=helper.get_density(hi, atm, allow_negative_heights=True)\n",
    "dmax=helper.get_distance_xmax_geometric(zenith, xmax, atm)\n",
    "print atm"
   ]
  },
  {
   "cell_type": "code",
   "execution_count": 271,
   "metadata": {},
   "outputs": [],
   "source": [
    "heights=np.arange(0,25e5,1e2)\n",
    "density=helper.get_density(heights,atm)"
   ]
  },
  {
   "cell_type": "code",
   "execution_count": 272,
   "metadata": {},
   "outputs": [
    {
     "data": {
      "image/png": "[encoded data removed]",
      "text/plain": [
       "<Figure size 432x288 with 1 Axes>"
      ]
     },
     "metadata": {
      "needs_background": "light"
     },
     "output_type": "display_data"
    }
   ],
   "source": [
    "fig = plt.figure()\n",
    "ax1 = fig.add_subplot(1,1,1)#,aspect=1)\n",
    "\n",
    "ax1.plot(heights,density,label='rho')\n",
    "\n",
    "ax1.legend(numpoints=1,loc='lower right',framealpha=1,facecolor='white')\n",
    "#ax1.axis([50,200,-0.0005,0.0002])\n",
    "ax1.set_xlabel('height (cm)')\n",
    "ax1.set_ylabel('density')\n",
    "\n",
    "\n",
    "#ax1.set_ylim([-0.0003, 0.0002])\n",
    "#ax2.set_ylim([-0.0003, 0.0002])\n",
    "\n",
    "\n",
    "plt.tight_layout()\n",
    "\n",
    "plt.show()"
   ]
  },
  {
   "cell_type": "code",
   "execution_count": 273,
   "metadata": {},
   "outputs": [],
   "source": [
    "layers=np.asarray([0.00000000E+00,3.62842688E+05,9.13489036E+05,2.55649441E+06,1.00000000E+07])\n",
    "atmA=np.asarray([-9.76096555E+01,-1.16961278E+02,1.69899898E+002,4.26086374E-04,1.12829200E-02])\n",
    "atmB=np.asarray([1.15877823E+03,1.17611896E+03,1.23947417E+03,1.05499728E+03,1.00000000E+00])\n",
    "atmC=np.asarray([8.99736190E+05,9.22225343E+05,6.71688536E+05,7.13085680E+05,1.00000000E+09])\n",
    "heights=np.arange(0,110e5,1e2)"
   ]
  },
  {
   "cell_type": "code",
   "execution_count": 274,
   "metadata": {},
   "outputs": [],
   "source": [
    "\n",
    "def return_density(h):\n",
    "    rho=np.zeros([len(h)])\n",
    "    \n",
    "    for i in np.arange(len(h)):\n",
    "        #print layers[0],h[i],layers[1]\n",
    "        \n",
    "        if h[i]>=layers[0] and h[i]<layers[1]:\n",
    "            rho[i]=atmB[0]/atmC[0]*np.exp(-1*h[i]/atmC[0])\n",
    "\n",
    "        if h[i]>layers[1] and h[i]<layers[2]:\n",
    "            rho[i]=atmB[1]/atmC[1]*np.exp(-1*h[i]/atmC[1])\n",
    "        if h[i]>layers[2] and h[i]<layers[3]:\n",
    "            rho[i]=atmB[2]/atmC[2]*np.exp(-1*h[i]/atmC[2])\n",
    "        if h[i]>layers[3] and h[i]<layers[4]:\n",
    "            rho[i]=atmB[3]/atmC[3]*np.exp(-1*h[i]/atmC[3])\n",
    "        if h[i]>=layers[4]:\n",
    "            rho[i]=-1*atmB[4]/atmC[4]\n",
    "            \n",
    "    return rho\n"
   ]
  },
  {
   "cell_type": "code",
   "execution_count": 275,
   "metadata": {},
   "outputs": [],
   "source": [
    "\n",
    "def return_density(h):\n",
    "    rho=0\n",
    "    \n",
    "    \n",
    "    if h>=layers[0] and h<layers[1]:\n",
    "        rho=atmB[0]/atmC[0]*np.exp(-1*h/atmC[0])\n",
    "\n",
    "    if h>layers[1] and h<layers[2]:\n",
    "        rho=atmB[1]/atmC[1]*np.exp(-1*h/atmC[1])\n",
    "    if h>layers[2] and h<layers[3]:\n",
    "        rho=atmB[2]/atmC[2]*np.exp(-1*h/atmC[2])\n",
    "    if h>layers[3] and h<layers[4]:\n",
    "        rho=atmB[3]/atmC[3]*np.exp(-1*h/atmC[3])\n",
    "    if h>=layers[4]:\n",
    "        rho=-1*atmB[4]/atmC[4]\n",
    "            \n",
    "    return rho\n"
   ]
  },
  {
   "cell_type": "code",
   "execution_count": 276,
   "metadata": {},
   "outputs": [
    {
     "name": "stdout",
     "output_type": "stream",
     "text": [
      "752.19\n"
     ]
    }
   ],
   "source": [
    "reload(debug_sim)\n",
    "density=debug_sim.return_density_array(heights,atm)\n",
    "overburden=debug_sim.return_overburden_array(heights,atm)\n",
    "print xmax\n",
    "#278934.51287600904\n",
    "#0.0009424500037839451"
   ]
  },
  {
   "cell_type": "code",
   "execution_count": 277,
   "metadata": {},
   "outputs": [
    {
     "name": "stdout",
     "output_type": "stream",
     "text": [
      "282417.25678789115\n",
      "0.0009231496620262956\n"
     ]
    }
   ],
   "source": [
    "reload(debug_sim)\n",
    "hi=debug_sim.get_vertical_height(xmax,atm)   # height in cm\n",
    "at=debug_sim.get_atmosphere(hi,atm)\n",
    "rho=debug_sim.return_density(hi, atm)\n",
    "print hi\n",
    "print rho"
   ]
  },
  {
   "cell_type": "code",
   "execution_count": 278,
   "metadata": {},
   "outputs": [
    {
     "data": {
      "image/png": "[encoded data removed]",
      "text/plain": [
       "<Figure size 432x288 with 2 Axes>"
      ]
     },
     "metadata": {
      "needs_background": "light"
     },
     "output_type": "display_data"
    }
   ],
   "source": [
    "fig = plt.figure() \n",
    "ax1 = fig.add_subplot(1,2,1)#,aspect=1) \n",
    "ax2 = fig.add_subplot(1,2,2)#,aspect=1)\n",
    "ax1.plot(heights/1e5,density,label='rho')\n",
    "ax1.axvline(x=hi/1e5)\n",
    "ax1.axhline(y=rho)\n",
    "ax1.axhline(y=rho*np.cos(zenith))\n",
    "\n",
    "#ax1.legend(numpoints=1,loc='lower right',framealpha=1,facecolor='white')\n",
    "\n",
    "#ax1.axis([50,200,-0.0005,0.0002]) ax1.set_xlabel('height (cm)') ax1.set_ylabel('density')\n",
    "\n",
    "ax1.set_xlim([0,10])\n",
    "ax2.plot(heights/1e5,overburden,label='T') \n",
    "ax2.axhline(y=xmax)\n",
    "ax2.axvline(x=hi/1e5)\n",
    "\n",
    "#ax1.legend(numpoints=1,loc='lower right',framealpha=1,facecolor='white')\n",
    "ax2.set_xlim([0,10])\n",
    "#ax2.set_ylim([0,40e5])\n",
    "\n",
    "ax2.set_xlabel('height (cm)') \n",
    "ax2.set_ylabel('T (g/cm2)') \n",
    "#ax2.set_yscale('log')\n",
    "\n",
    "plt.tight_layout()\n",
    "\n",
    "plt.show()"
   ]
  },
  {
   "cell_type": "code",
   "execution_count": 279,
   "metadata": {},
   "outputs": [],
   "source": [
    "atm=sim.get_atm(event)\n",
    "hi=helper.get_vertical_height(xmax,atm)   # height in cm\n",
    "at=helper.get_atmosphere(hi,atm)\n",
    "#rho=debug_sim.return_density_array(hi, atm)\n",
    "rho=debug_sim.return_density(hi, atm)\n",
    "\n",
    "dmax=helper.get_distance_xmax_geometric(zenith, xmax, atm)"
   ]
  },
  {
   "cell_type": "code",
   "execution_count": 269,
   "metadata": {},
   "outputs": [
    {
     "name": "stdout",
     "output_type": "stream",
     "text": [
      "278934.51287600904\n",
      "0.0009445957424172722\n"
     ]
    }
   ],
   "source": [
    "print hi\n",
    "print rho"
   ]
  },
  {
   "cell_type": "code",
   "execution_count": null,
   "metadata": {},
   "outputs": [],
   "source": []
  }
 ],
 "metadata": {
  "kernelspec": {
   "display_name": "Python 2",
   "language": "python",
   "name": "python2"
  },
  "language_info": {
   "codemirror_mode": {
    "name": "ipython",
    "version": 2
   },
   "file_extension": ".py",
   "mimetype": "text/x-python",
   "name": "python",
   "nbconvert_exporter": "python",
   "pygments_lexer": "ipython2",
   "version": "2.7.15"
  }
 },
 "nbformat": 4,
 "nbformat_minor": 2
}
