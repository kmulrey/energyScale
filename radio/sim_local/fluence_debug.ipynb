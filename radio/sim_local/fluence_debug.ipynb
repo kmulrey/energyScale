{
 "cells": [
  {
   "cell_type": "code",
   "execution_count": 425,
   "metadata": {},
   "outputs": [],
   "source": [
    "import numpy as np\n",
    "from optparse import OptionParser\n",
    "import os\n",
    "import cPickle\n",
    "import os.path\n",
    "import matplotlib.pyplot as plt\n",
    "import scipy.interpolate as intp\n",
    "from scipy.interpolate import interp1d\n",
    "from matplotlib import cm\n",
    "import re\n",
    "from scipy import signal\n",
    "from scipy.signal import hilbert\n",
    "import sys\n",
    "\n",
    "sys.path.insert(0, '../simulation')\n",
    "\n",
    "import fluence as flu\n",
    "import radiation_energy as rad\n",
    "import sim_functions as sim\n",
    "import helper as helper\n",
    "import sim_functions as sim\n",
    "import debug_sim as debug_sim\n"
   ]
  },
  {
   "cell_type": "code",
   "execution_count": 426,
   "metadata": {},
   "outputs": [],
   "source": [
    "event_path='/Users/kmulrey/radio/events/'"
   ]
  },
  {
   "cell_type": "code",
   "execution_count": 427,
   "metadata": {},
   "outputs": [],
   "source": [
    "def integrate(r,flu0,flu1):\n",
    "    n=len(r)\n",
    "    dr=r[1]-r[0]\n",
    "    integral=0\n",
    "    for i in np.arange(n-1):\n",
    "        r0=r[i]\n",
    "        r1=r[i+1]\n",
    "        val0=r0*(flu0[i]+flu1[i])\n",
    "        val1=r1*(flu0[i+1]+flu1[i+1])\n",
    "        integral=integral+(val0+val1)*0.5*dr\n",
    "    \n",
    "    \n",
    "    \n",
    "    return 2*np.pi*integral*6.2415e18 # to eV\n"
   ]
  },
  {
   "cell_type": "code",
   "execution_count": 428,
   "metadata": {},
   "outputs": [],
   "source": [
    "def integrate_one_pol(r,flu):\n",
    "    n=len(r)\n",
    "    dr=r[1]-r[0]\n",
    "    integral=0\n",
    "    for i in np.arange(n-1):\n",
    "        r0=r[i]\n",
    "        r1=r[i+1]\n",
    "        val0=r0*(flu[i])\n",
    "        val1=r1*(flu[i+1])\n",
    "        integral=integral+(val0+val1)*0.5*dr\n",
    "    \n",
    "    \n",
    "    \n",
    "    return 2*np.pi*integral*6.2415e18 # to eV\n"
   ]
  },
  {
   "cell_type": "code",
   "execution_count": 429,
   "metadata": {},
   "outputs": [],
   "source": [
    "a=10\n",
    "type='proton'"
   ]
  },
  {
   "cell_type": "code",
   "execution_count": 430,
   "metadata": {},
   "outputs": [],
   "source": [
    "\n",
    "filename=type+'_event_list.txt'\n",
    "sim_dir=[]\n",
    "runnr=[]\n",
    "count=0"
   ]
  },
  {
   "cell_type": "code",
   "execution_count": 431,
   "metadata": {},
   "outputs": [],
   "source": [
    "with open(filename) as f:\n",
    "    for line in f:\n",
    "        sim_dir.append(line.split()[0])\n",
    "        \n",
    "        runnr.append(line.split()[1])\n",
    "        count=count+1\n",
    "\n"
   ]
  },
  {
   "cell_type": "code",
   "execution_count": 432,
   "metadata": {},
   "outputs": [
    {
     "name": "stdout",
     "output_type": "stream",
     "text": [
      "/Users/kmulrey/radio/events/225079654/1/coreas/proton/  000366\n"
     ]
    }
   ],
   "source": [
    "i=3\n",
    "event= sim_dir[i].split('events/')[1].split('/')[0]\n",
    "print '{0}  {1}'.format(sim_dir[i], runnr[i])"
   ]
  },
  {
   "cell_type": "code",
   "execution_count": 445,
   "metadata": {},
   "outputs": [],
   "source": [
    "reload(debug_sim)\n",
    "ant_pos,times,efield,zenith,az,energy,xmax=debug_sim.get_efield(sim_dir[i], runnr[i])"
   ]
  },
  {
   "cell_type": "code",
   "execution_count": 437,
   "metadata": {},
   "outputs": [],
   "source": [
    "alpha=sim.GetAlpha(zenith,az,1.1837)"
   ]
  },
  {
   "cell_type": "code",
   "execution_count": 446,
   "metadata": {},
   "outputs": [],
   "source": [
    "atm=sim.get_atm(event)\n",
    "hi=helper.get_vertical_height(xmax,atm)   # height in cm\n",
    "at=helper.get_atmosphere(hi,atm)\n",
    "#rho=debug_sim.return_density_array(hi, atm)\n",
    "rho=debug_sim.return_density(hi, atm)\n",
    "\n",
    "dmax=helper.get_distance_xmax_geometric(zenith, xmax, atm)\n"
   ]
  },
  {
   "cell_type": "code",
   "execution_count": 447,
   "metadata": {
    "scrolled": true
   },
   "outputs": [
    {
     "name": "stdout",
     "output_type": "stream",
     "text": [
      "(160, 4082, 3)\n"
     ]
    }
   ],
   "source": [
    "print efield.shape"
   ]
  },
  {
   "cell_type": "code",
   "execution_count": 473,
   "metadata": {},
   "outputs": [],
   "source": [
    "ant_pos_shower=sim.ground_to_shower(ant_pos,zenith,az,B=1.1837)"
   ]
  },
  {
   "cell_type": "code",
   "execution_count": 474,
   "metadata": {},
   "outputs": [
    {
     "name": "stdout",
     "output_type": "stream",
     "text": [
      "(160, 80, 2)\n",
      "(160, 80)\n"
     ]
    }
   ],
   "source": [
    "reload(debug_sim)\n",
    "e_filt,time_filt=debug_sim.lofar_filter(efield,times)\n",
    "print e_filt.shape\n",
    "print time_filt.shape\n"
   ]
  },
  {
   "cell_type": "code",
   "execution_count": 450,
   "metadata": {},
   "outputs": [],
   "source": [
    "reload(debug_sim)\n",
    "flu_lofar_1,flu_lofar_2,flu_lofar_3=debug_sim.lofar_fluence(e_filt,time_filt)\n"
   ]
  },
  {
   "cell_type": "code",
   "execution_count": 402,
   "metadata": {},
   "outputs": [
    {
     "name": "stdout",
     "output_type": "stream",
     "text": [
      "(160, 4082, 3)\n",
      "(160, 4082)\n",
      "(160, 2)\n"
     ]
    }
   ],
   "source": [
    "reload(debug_sim)\n",
    "print filtered_efield.shape\n",
    "print times.shape\n",
    "flu11,flu21,flu41=debug_sim.get_fluence(efield,times)\n",
    "print flu11.shape"
   ]
  },
  {
   "cell_type": "code",
   "execution_count": 403,
   "metadata": {},
   "outputs": [],
   "source": [
    "reload(debug_sim)\n",
    "fluence=debug_sim.calculate_energy_fluence_vector(filtered_efield, times, signal_window=100., remove_noise=True)"
   ]
  },
  {
   "cell_type": "code",
   "execution_count": 470,
   "metadata": {},
   "outputs": [],
   "source": [
    "reload(debug_sim)\n",
    "fluence=debug_sim.calculate_energy_fluence_vector(e_filt,time_filt*1e-9, signal_window=100., remove_noise=True)"
   ]
  },
  {
   "cell_type": "code",
   "execution_count": 471,
   "metadata": {},
   "outputs": [],
   "source": [
    "pos_uvw_vxb=ant_pos_shower[0::8]\n",
    "pos_uvw_vxvxb=ant_pos_shower[2::8]\n",
    "neg_uvw_vxvxb=ant_pos_shower[6::8]\n",
    "#fluence_vxb=fluence21[0::8]\n",
    "#fluence_vxvxb=fluence21[2::8]\n",
    "\n",
    "#pos_vxvxb_all=np.concatenate([neg_uvw_vxvxb.T[1],pos_uvw_vxvxb.T[1]])\n",
    "flu_vxvxb_0=np.concatenate([flu21[2::8].T[0],flu21[6::8].T[0]])\n",
    "flu_vxvxb_1=np.concatenate([flu21[2::8].T[1],flu21[6::8].T[1]])\n",
    "\n",
    "fluence_vxvxb_0=np.concatenate([fluence[2::8].T[0],fluence[6::8].T[0]])\n",
    "fluence_vxvxb_1=np.concatenate([fluence[2::8].T[1],fluence[6::8].T[1]])\n",
    "\n",
    "flu_lofar_vxvxb_0=np.concatenate([flu_lofar_2[2::8].T[0],flu_lofar_2[6::8].T[0]])\n",
    "flu_lofar_vxvxb_1=np.concatenate([flu_lofar_2[2::8].T[1],flu_lofar_2[6::8].T[1]])\n",
    "\n",
    "pos_vxvxb_all=np.concatenate([neg_uvw_vxvxb.T[1],pos_uvw_vxvxb.T[1]])\n",
    "\n",
    "inds = pos_vxvxb_all.argsort()\n",
    "            \n",
    "sorted_pos=pos_vxvxb_all[inds]\n",
    "sorted_flu_vxb=flu_vxvxb_0[inds]\n",
    "sorted_flu_vxvxb=flu_vxvxb_1[inds]\n",
    "sorted_fluence_vxb=fluence_vxvxb_0[inds]\n",
    "sorted_fluence_vxvxb=fluence_vxvxb_1[inds]\n",
    "\n",
    "sorted_flu_lofar_vxb=flu_lofar_vxvxb_0[inds]\n",
    "sorted_flu_lofar_vxvxb=flu_lofar_vxvxb_1[inds]\n",
    "\n",
    "f0 = interp1d(sorted_pos, sorted_fluence_vxb, kind='cubic')\n",
    "f1 = interp1d(sorted_pos, sorted_fluence_vxvxb, kind='cubic')\n",
    "        \n",
    "xnew = np.linspace(0, 400, num=1000, endpoint=True)"
   ]
  },
  {
   "cell_type": "code",
   "execution_count": 472,
   "metadata": {},
   "outputs": [
    {
     "data": {
      "image/png": "[encoded data removed]",
      "text/plain": [
       "<Figure size 432x288 with 1 Axes>"
      ]
     },
     "metadata": {
      "needs_background": "light"
     },
     "output_type": "display_data"
    }
   ],
   "source": [
    "fig = plt.figure()\n",
    "#ax1 = fig.add_subplot(1,1,1,aspect=1)\n",
    "ax1 = fig.add_subplot(1,1,1)\n",
    "#ax1.plot(sorted_pos,sorted_fluence_vxb,label='vxB')\n",
    "ax1.plot(sorted_pos,sorted_fluence_vxb,label='vxvxB')\n",
    "\n",
    "#ax1.plot(sorted_pos,sorted_flu_vxb,':',label='vxB, lofar old')\n",
    "ax1.plot(sorted_pos,sorted_flu_lofar_vxb,color='red',linestyle=':',label='vxB, lofar method')\n",
    "ax1.legend(numpoints=1,loc='upper right',framealpha=1,facecolor='white')\n",
    "\n",
    "\n",
    "#ax1.plot(xnew,f0(xnew))\n",
    "#ax1.plot(sorted_pos,sorted_flu_vxvxb,':')\n",
    "#ax1.plot(sorted_pos,sorted_fluence_vxvxb)\n",
    "#ax1.plot(xnew,f1(xnew))\n",
    "\n",
    "#ax1.plot(ant_pos_shower.T[0],ant_pos_shower.T[1],'.')\n",
    "#ax1.plot(pos_uvw_vxvxb.T[0],pos_uvw_vxvxb.T[1],'.')\n",
    "#ax1.plot(neg_uvw_vxvxb.T[0],neg_uvw_vxvxb.T[1],'.')\n",
    "\n",
    "plt.show()"
   ]
  },
  {
   "cell_type": "code",
   "execution_count": null,
   "metadata": {},
   "outputs": [],
   "source": []
  },
  {
   "cell_type": "code",
   "execution_count": null,
   "metadata": {},
   "outputs": [],
   "source": []
  },
  {
   "cell_type": "code",
   "execution_count": null,
   "metadata": {},
   "outputs": [],
   "source": []
  },
  {
   "cell_type": "code",
   "execution_count": 453,
   "metadata": {
    "scrolled": true
   },
   "outputs": [
    {
     "data": {
      "image/png": "[encoded data removed]",
      "text/plain": [
       "<Figure size 432x288 with 2 Axes>"
      ]
     },
     "metadata": {
      "needs_background": "light"
     },
     "output_type": "display_data"
    }
   ],
   "source": [
    "a=10\n",
    "fig = plt.figure()\n",
    "ax1 = fig.add_subplot(1,2,1)#,aspect=1)\n",
    "ax2 = fig.add_subplot(1,2,2)#,aspect=1)\n",
    "\n",
    "ax1.plot(times[a]*1e9,filtered_efield[a].T[0],label='vxB')\n",
    "ax1.plot(times[a]*1e9,filtered_efield[a].T[1],label='vxvxB')\n",
    "ax1.plot(times[a]*1e9,filtered_efield[a].T[2],label='v')\n",
    "ax1.legend(numpoints=1,loc='lower right',framealpha=1,facecolor='white')\n",
    "#ax1.axis([50,200,-0.0005,0.0002])\n",
    "\n",
    "ax2.plot(time_filt[a],e_filt[a].T[0],label='vxB')\n",
    "ax2.plot(time_filt[a],e_filt[a].T[1],label='vxvxB')\n",
    "ax1.legend(numpoints=1,loc='lower right',framealpha=1,facecolor='white')\n",
    "ax1.set_ylim([-0.0003, 0.0002])\n",
    "ax2.set_ylim([-0.0003, 0.0002])\n",
    "\n",
    "\n",
    "plt.tight_layout()\n",
    "\n",
    "plt.show()"
   ]
  },
  {
   "cell_type": "code",
   "execution_count": 454,
   "metadata": {},
   "outputs": [
    {
     "name": "stdout",
     "output_type": "stream",
     "text": [
      "0.2518142757044228\n",
      "0.3664385922022486\n",
      "0.9445957424172722\n",
      "0.7797944054297464\n"
     ]
    }
   ],
   "source": [
    "Erad=integrate(xnew,f0(xnew),f1(xnew))\n",
    "Erad_vxB=integrate_one_pol(xnew,f0(xnew))\n",
    "Erad_vxvxB=integrate_one_pol(xnew,f1(xnew))\n",
    "a=rad.get_a(rho)\n",
    "\n",
    "b=0.9\n",
    "mag=2.03\n",
    "\n",
    "print np.sin(alpha)*np.sqrt(Erad_vxvxB/Erad_vxB)*mag**b\n",
    "print a                                               \n",
    "print rho*1e3\n",
    "print np.sin(alpha)"
   ]
  },
  {
   "cell_type": "code",
   "execution_count": null,
   "metadata": {},
   "outputs": [],
   "source": []
  },
  {
   "cell_type": "code",
   "execution_count": null,
   "metadata": {},
   "outputs": [],
   "source": []
  },
  {
   "cell_type": "code",
   "execution_count": null,
   "metadata": {},
   "outputs": [],
   "source": []
  }
 ],
 "metadata": {
  "kernelspec": {
   "display_name": "Python 2",
   "language": "python",
   "name": "python2"
  },
  "language_info": {
   "codemirror_mode": {
    "name": "ipython",
    "version": 2
   },
   "file_extension": ".py",
   "mimetype": "text/x-python",
   "name": "python",
   "nbconvert_exporter": "python",
   "pygments_lexer": "ipython2",
   "version": "2.7.15"
  }
 },
 "nbformat": 4,
 "nbformat_minor": 2
}
